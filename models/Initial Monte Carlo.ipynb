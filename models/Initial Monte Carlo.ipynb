{
  "cells": [
    {
      "cell_type": "code",
      "execution_count": 22,
      "metadata": {},
      "outputs": [],
      "source": [
        "## Downloading libraries",
        "from pybaseball import batting_stats",
        "import pandas as pd",
        "import numpy as np",
        "from itertools import permutations",
        "from random import sample"
      ]
    },
    {
      "cell_type": "code",
      "execution_count": 17,
      "metadata": {},
      "outputs": [
        {
          "data": {
            "text/plain": [
              "                  Name Pos       SO%       BB%      HBP%       1B%       2B%       3B%       HR%       SF%       SH%     GIDP%  Field Out%  \n",
              "0  Pete Crow-Armstrong  CF  0.240437  0.049180  0.005464  0.120219  0.060109  0.005464  0.060109  0.005464  0.016393  0.000000    0.437158  \n",
              "1          Kyle Tucker  RF  0.118812  0.148515  0.000000  0.113861  0.044554  0.014851  0.049505  0.004950  0.000000  0.019802    0.485149  \n",
              "2       Dansby Swanson  SS  0.266304  0.081522  0.000000  0.130435  0.038043  0.005435  0.048913  0.005435  0.005435  0.010870    0.407609  \n",
              "3        Michael Busch  1B  0.246835  0.107595  0.018987  0.120253  0.050633  0.006329  0.044304  0.000000  0.000000  0.006329    0.398734  \n",
              "4             Ian Happ  LF  0.187166  0.128342  0.005348  0.165775  0.048128  0.000000  0.016043  0.010695  0.000000  0.016043    0.422460  \n",
              "5         Seiya Suzuki  DH  0.292135  0.078652  0.000000  0.106742  0.039326  0.011236  0.061798  0.005618  0.000000  0.022472    0.382022  \n",
              "6         Nico Hoerner  2B  0.094675  0.047337  0.011834  0.201183  0.047337  0.005917  0.000000  0.011834  0.000000  0.000000    0.579882  \n",
              "7            Jon Berti  3B  0.192308  0.089744  0.025641  0.179487  0.025641  0.000000  0.000000  0.000000  0.000000  0.012821    0.474359  \n",
              "8         Carson Kelly   C  0.285714  0.190476  0.009524  0.142857  0.009524  0.000000  0.076190  0.009524  0.000000  0.019048    0.257143"
            ]
          },
          "execution_count": 17,
          "metadata": {},
          "output_type": "execute_result"
        }
      ],
      "source": [
        "## Importing statistics",
        "stats = batting_stats(2025)",
        "cubs = stats[stats['Team'] == 'CHC'].copy()",
        "",
        "# Fixed player-position assignments",
        "selected_players = {",
        "    'Carson Kelly': 'C',",
        "    'Michael Busch': '1B',",
        "    'Nico Hoerner': '2B',",
        "    'Dansby Swanson': 'SS',",
        "    'Jon Berti': '3B',",
        "    'Ian Happ': 'LF',",
        "    'Pete Crow-Armstrong': 'CF',",
        "    'Kyle Tucker': 'RF',",
        "    'Seiya Suzuki': 'DH'",
        "}",
        "",
        "# Filter and rename as 'starters'",
        "starters = cubs[cubs['Name'].isin(selected_players.keys())].copy()",
        "starters['Pos'] = starters['Name'].map(selected_players)",
        "",
        "# Calculate outcome probabilities",
        "starters['1B'] = starters['H'] - starters['2B'] - starters['3B'] - starters['HR']",
        "starters['SO%'] = starters['SO'] / starters['PA']",
        "starters['BB%'] = starters['BB'] / starters['PA']",
        "starters['HBP%'] = starters['HBP'] / starters['PA']",
        "starters['1B%'] = starters['1B'] / starters['PA']",
        "starters['2B%'] = starters['2B'] / starters['PA']",
        "starters['3B%'] = starters['3B'] / starters['PA']"
      ]
    }
  ]
}
